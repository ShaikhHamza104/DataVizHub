{
  "cells": [
    {
      "cell_type": "code",
      "execution_count": null,
      "metadata": {
        "id": "t9m5KXgliN7a"
      },
      "outputs": [],
      "source": [
        "import numpy as np\n",
        "import pandas as pd\n",
        "\n",
        "import matplotlib.pyplot as plt\n",
        "\n",
        "plt.style.use('default')"
      ]
    },
    {
      "cell_type": "markdown",
      "metadata": {
        "id": "7oa-klRDiT-p"
      },
      "source": [
        "## `Problem 1 to 5`:\n",
        "\n",
        "Dataset link: https://tinyurl.com/2fe6vz4u\n",
        "\n",
        "**Add a label to every axis and add a proper title for the charts. Also add proper labels if there are multiple representations.** Then, you can customize it as your wish.\n",
        "\n",
        "### **`Problem-1:`** Draw a line plot of which, the x-axis is the \"Year\" and the y-axis is sum of \"PM2.5\" of two countries Iran and China."
      ]
    },
    {
      "cell_type": "code",
      "execution_count": null,
      "metadata": {
        "colab": {
          "base_uri": "https://localhost:8080/",
          "height": 206
        },
        "id": "sAUokaJziSS0",
        "outputId": "be9640c0-b84d-47df-d00d-31f0c991793f"
      },
      "outputs": [],
      "source": [
        "# code here\n",
        "df = pd.read_csv('https://tinyurl.com/2fe6vz4u')\n",
        "df.head()"
      ]
    },
    {
      "cell_type": "code",
      "execution_count": null,
      "metadata": {
        "id": "PWIlmBZHpDB3"
      },
      "outputs": [],
      "source": [
        "iran_series = df.query('Country == \"Iran\"').groupby('Year')['PM2.5'].sum()\n",
        "china_series = df.query('Country == \"China\"').groupby('Year')['PM2.5'].sum()\n",
        "iran_series"
      ]
    },
    {
      "cell_type": "code",
      "execution_count": null,
      "metadata": {
        "colab": {
          "base_uri": "https://localhost:8080/",
          "height": 472
        },
        "id": "S9wynkyIphQa",
        "outputId": "8835ac11-8eb2-4ad9-b6e1-b92416243a12"
      },
      "outputs": [],
      "source": [
        "plt.plot(iran_series.index,iran_series.values,label='Iran',linestyle='dashed')\n",
        "plt.plot(china_series.index,china_series.values,label='China',linestyle='dotted',color='red')\n",
        "plt.xlabel('Year')\n",
        "plt.ylabel('PM2.5')\n",
        "plt.title('PM2.5 Over the years')\n",
        "plt.xticks(df['Year'].value_counts().index)\n",
        "plt.legend()\n",
        "plt.grid()\n",
        "plt.show()"
      ]
    },
    {
      "cell_type": "markdown",
      "metadata": {
        "id": "sM5oN3VkiY3y"
      },
      "source": [
        "### **`Problem-2:`** Draw a histogram of the  column \"PM10\" of which the y-axis represents the probability (see the documentation how to draw the probability)."
      ]
    },
    {
      "cell_type": "code",
      "execution_count": null,
      "metadata": {
        "colab": {
          "base_uri": "https://localhost:8080/",
          "height": 472
        },
        "id": "QER2UyTUicYe",
        "outputId": "5af84dc4-a12b-4a56-9536-7ee15136bfe9"
      },
      "outputs": [],
      "source": [
        "# code here\n",
        "plt.hist(df['PM10'],density=True,bins=50,facecolor='green',alpha=0.6)\n",
        "plt.xlabel('Bins')\n",
        "plt.ylabel('Probability')\n",
        "plt.title('Histogram of PM10')\n",
        "plt.grid()\n",
        "plt.show()"
      ]
    },
    {
      "cell_type": "markdown",
      "metadata": {
        "id": "2BLv8ixLiehx"
      },
      "source": [
        "### **`Problem-3:`** Draw a scatter plot where x-axis represents \"PM2.5\" and y-axis represents \"PM10\" for two countries Poland and Chile."
      ]
    },
    {
      "cell_type": "code",
      "execution_count": null,
      "metadata": {
        "id": "eoKNdwSTihfJ"
      },
      "outputs": [],
      "source": [
        "# code here\n",
        "chile_df = df.query(\"Country == 'Chile'\")\n",
        "poland_df = df.query(\"Country == 'Poland'\")"
      ]
    },
    {
      "cell_type": "code",
      "execution_count": null,
      "metadata": {},
      "outputs": [],
      "source": [
        "chile_df.head()"
      ]
    },
    {
      "cell_type": "code",
      "execution_count": null,
      "metadata": {
        "colab": {
          "base_uri": "https://localhost:8080/",
          "height": 472
        },
        "id": "OAtlX5nDvZJG",
        "outputId": "ba2a977b-00eb-4648-c105-2408d3100fe3"
      },
      "outputs": [],
      "source": [
        "plt.scatter(chile_df['PM2.5'],chile_df['PM10'],marker=\"+\",color='red',label='Chile')\n",
        "plt.scatter(poland_df['PM2.5'],poland_df['PM10'],marker=\"D\",color='black',label='Poland')\n",
        "plt.xlabel('PM2.5')\n",
        "plt.ylabel('PM10')\n",
        "plt.title('PM2.5 Vs PM10 for Chile and Poland')\n",
        "plt.legend()\n",
        "plt.grid()\n",
        "plt.show()"
      ]
    },
    {
      "cell_type": "markdown",
      "metadata": {
        "id": "liyyLRglijPk"
      },
      "source": [
        "### **`Problem-4:`** Draw a pie chart of top 5 most frequent countries."
      ]
    },
    {
      "cell_type": "code",
      "execution_count": null,
      "metadata": {
        "id": "xckL1m-kimE1"
      },
      "outputs": [],
      "source": [
        "# code here\n",
        "freq_ser = df['Country'].value_counts().head()\n",
        "plt.pie(freq_ser,labels=freq_ser.index,autopct='%1.1f%%',shadow=True,startangle=90)\n",
        "plt.xlabel('Country')\n",
        "plt.ylabel('Frequency')\n",
        "plt.title('Top 5 Countries with highest frequency')\n",
        "plt.show()"
      ]
    },
    {
      "cell_type": "code",
      "execution_count": null,
      "metadata": {
        "colab": {
          "base_uri": "https://localhost:8080/",
          "height": 406
        },
        "id": "xjgXrKZpzBlr",
        "outputId": "027d94c9-cf86-4985-c812-bf32aad6d439"
      },
      "outputs": [],
      "source": [
        "plt.pie(freq_ser,labels=freq_ser.index,autopct='%0.1f%%')\n",
        "plt.show()"
      ]
    },
    {
      "cell_type": "markdown",
      "metadata": {
        "id": "6l7yu0gVin1U"
      },
      "source": [
        "### **`Problem-5:`** Draw a bar chart which represents the counts of top 5 most frequent countries.\n",
        "\n"
      ]
    },
    {
      "cell_type": "code",
      "execution_count": null,
      "metadata": {
        "colab": {
          "base_uri": "https://localhost:8080/",
          "height": 449
        },
        "id": "SRkvJ3LQiqa-",
        "outputId": "8cf049eb-2f2c-4fb6-e866-8d24b02b7fe1"
      },
      "outputs": [],
      "source": [
        "# code here\n",
        "plt.bar(freq_ser.index,freq_ser)\n",
        "plt.xlabel('Country')\n",
        "plt.ylabel('Frequency Count')\n",
        "plt.show()"
      ]
    },
    {
      "cell_type": "markdown",
      "metadata": {
        "id": "CinxvrZwisbd"
      },
      "source": [
        "##`Problem 6-10`\n",
        "Data Set - https://docs.google.com/spreadsheets/d/e/2PACX-1vTJh6X4_mqixWsfK9mgkllGQkKYW9Wj9kOIMGY2uYsWeS8n5np87DO-SDGQWJ1HXEnxiOVFVzYFYEcR/pub?gid=558678488&single=true&output=csv\n",
        "\n",
        "This is a Sales data of any company in a Year.\n",
        "\n",
        "\n",
        "###`Problem-6`\n",
        "Show a line plot of Total Profit for each month with below styling.\n",
        "* Dotted Line\n",
        "* Line Color Blue\n",
        "* Show Legend at top left\n",
        "* Circle Marker"
      ]
    },
    {
      "cell_type": "code",
      "execution_count": null,
      "metadata": {
        "colab": {
          "base_uri": "https://localhost:8080/",
          "height": 425
        },
        "id": "mmX3kDZNiyPw",
        "outputId": "0c50a1eb-355b-4e8e-b3e7-14978c853615"
      },
      "outputs": [],
      "source": [
        "# code here\n",
        "df = pd.read_csv('https://docs.google.com/spreadsheets/d/e/2PACX-1vTJh6X4_mqixWsfK9mgkllGQkKYW9Wj9kOIMGY2uYsWeS8n5np87DO-SDGQWJ1HXEnxiOVFVzYFYEcR/pub?gid=558678488&single=true&output=csv')\n",
        "df"
      ]
    },
    {
      "cell_type": "code",
      "execution_count": null,
      "metadata": {
        "colab": {
          "base_uri": "https://localhost:8080/",
          "height": 472
        },
        "id": "w9raPman1zbP",
        "outputId": "ecdf4d33-6451-401e-d24f-f9d33d988ffb"
      },
      "outputs": [],
      "source": [
        "plt.plot(df['month_number'],df['total_profit'],label='Month on month Profit',color='b',marker='o',linestyle='dotted')\n",
        "plt.xlabel('Month')\n",
        "plt.ylabel('Total Profit')\n",
        "plt.title('Company sales profit')\n",
        "plt.legend(loc=\"upper left\")\n",
        "plt.show()"
      ]
    },
    {
      "cell_type": "markdown",
      "metadata": {
        "id": "KWlj7XhJiz8f"
      },
      "source": [
        "###`Problem-7`\n",
        "Show sales of each product in march month as pie chart.\n",
        "* Show Percentage value\n",
        "* Give Title \"Sales in March\"\n",
        "* Explode ToothPaste with shadow"
      ]
    },
    {
      "cell_type": "code",
      "execution_count": null,
      "metadata": {
        "id": "lomyBUNni3L8"
      },
      "outputs": [],
      "source": [
        "# code here\n",
        "labels = df[df['month_number'] == 3].iloc[:,1:7].stack().index.get_level_values(1)\n",
        "values = df[df['month_number'] == 3].iloc[:,1:7].stack().values"
      ]
    },
    {
      "cell_type": "code",
      "execution_count": null,
      "metadata": {
        "colab": {
          "base_uri": "https://localhost:8080/"
        },
        "id": "4NHYOijM3r67",
        "outputId": "ca70bb90-6221-42bf-b059-14be4d9f40fd"
      },
      "outputs": [],
      "source": [
        "labels"
      ]
    },
    {
      "cell_type": "code",
      "execution_count": null,
      "metadata": {
        "colab": {
          "base_uri": "https://localhost:8080/",
          "height": 428
        },
        "id": "8OxfsczC3OLo",
        "outputId": "63c27b04-c3c2-408b-d7b6-ae01b6c34a65"
      },
      "outputs": [],
      "source": [
        "plt.pie(values,labels=labels,autopct='%0.1f%%',explode=[0,0,0.1,0,0,0],shadow=True)     \n",
        "plt.title(\"Sales in March\")\n",
        "plt.show()"
      ]
    },
    {
      "cell_type": "markdown",
      "metadata": {
        "id": "3e0fKkCpi433"
      },
      "source": [
        "###`Problem-8` Multiline Plot of all products sales.\n",
        "* Give different styes for each products\n",
        "* Add legend at top right"
      ]
    },
    {
      "cell_type": "code",
      "execution_count": null,
      "metadata": {
        "colab": {
          "base_uri": "https://localhost:8080/",
          "height": 472
        },
        "id": "2XbhR9PCi7b1",
        "outputId": "056852a0-cb81-4d97-9aba-4399e51aa11d"
      },
      "outputs": [],
      "source": [
        "# code here\n",
        "monthList  = df['month_number'].tolist()\n",
        "\n",
        "plt.plot(monthList, df['facecream'],   label = 'Face cream', linestyle='dotted', marker='o', linewidth=3)\n",
        "plt.plot(monthList, df['toothpaste'], label = 'Tooth Paste', marker='o', linewidth=3)\n",
        "plt.plot(monthList, df['bathingsoap'], label = 'Bathing Soap', marker='o', linewidth=3)\n",
        "plt.plot(monthList, df['shampoo'], label = 'Shampoo', linestyle='dashdot', linewidth=3)\n",
        "plt.plot(monthList, df['moisturizer'], label = 'Moisturizer', marker='o', linewidth=3)\n",
        "plt.plot(monthList, df['facewash'],   label = 'Face Wash',  linestyle='dashed', linewidth=2)\n",
        "\n",
        "\n",
        "plt.xlabel('Month Number')\n",
        "plt.ylabel('Sales units in number')\n",
        "plt.legend(loc='upper right')\n",
        "plt.xticks(monthList)\n",
        "plt.title('Sales data')\n",
        "plt.show()"
      ]
    },
    {
      "cell_type": "markdown",
      "metadata": {
        "id": "SN-is2KYi9Ws"
      },
      "source": [
        "###`Problem-9` Show Quarter wise Sales data for all products as multi Bar chart.\n"
      ]
    },
    {
      "cell_type": "code",
      "execution_count": null,
      "metadata": {
        "id": "GX0wmMjfjAHW"
      },
      "outputs": [],
      "source": [
        "# code here\n",
        "df['date'] = pd.to_datetime(['2020-{}-01'.format(month) for month in df['month_number']])"
      ]
    },
    {
      "cell_type": "code",
      "execution_count": null,
      "metadata": {
        "id": "H1_63xXeycMJ"
      },
      "outputs": [],
      "source": [
        "final_df = df.groupby(df['date'].dt.quarter).sum()"
      ]
    },
    {
      "cell_type": "code",
      "execution_count": null,
      "metadata": {
        "colab": {
          "base_uri": "https://localhost:8080/",
          "height": 206
        },
        "id": "VyY83W4EycTR",
        "outputId": "a201c649-22ef-41e9-e55c-45aca8c4e26f"
      },
      "outputs": [],
      "source": [
        "final_df"
      ]
    },
    {
      "cell_type": "code",
      "execution_count": null,
      "metadata": {
        "colab": {
          "base_uri": "https://localhost:8080/",
          "height": 449
        },
        "id": "8qYAFZ_KycZA",
        "outputId": "468db635-b2e6-4b57-83d6-ab0baa23a670"
      },
      "outputs": [],
      "source": [
        "i = -1\n",
        "for col in final_df.columns[1:7]:\n",
        "  plt.bar(final_df.index + i,final_df[col],width=0.15,label=col)\n",
        "  i = i - 0.15\n",
        "\n",
        "plt.xticks(final_df.index-1.4,final_df.index)\n",
        "plt.xlabel('Product')\n",
        "plt.ylabel('Sales')\n",
        "plt.legend()\n",
        "plt.show()"
      ]
    },
    {
      "cell_type": "code",
      "execution_count": null,
      "metadata": {
        "colab": {
          "base_uri": "https://localhost:8080/",
          "height": 206
        },
        "id": "QShj_SjaycmX",
        "outputId": "fcb304cd-e529-4654-b224-f019fbcbff5d"
      },
      "outputs": [],
      "source": [
        "final_df.iloc[:,1:7]"
      ]
    },
    {
      "cell_type": "markdown",
      "metadata": {
        "id": "UMUYyefEjBx4"
      },
      "source": [
        "###`Problem-10` Plot Stacked Bar chart quarter wise for each product."
      ]
    },
    {
      "cell_type": "code",
      "execution_count": null,
      "metadata": {
        "colab": {
          "base_uri": "https://localhost:8080/",
          "height": 206
        },
        "id": "L1KcbSOfjEx_",
        "outputId": "8ededd2d-8a00-496d-e60e-90d63984d928"
      },
      "outputs": [],
      "source": [
        "# code here\n",
        "final_df"
      ]
    },
    {
      "cell_type": "code",
      "execution_count": null,
      "metadata": {
        "colab": {
          "base_uri": "https://localhost:8080/",
          "height": 430
        },
        "id": "d1N8c2G6PwtB",
        "outputId": "2465db5b-bd8d-4895-8efc-b9351a67dd3c"
      },
      "outputs": [],
      "source": [
        "all_cols = []\n",
        "\n",
        "for col in final_df.columns[1:7]:\n",
        "  if len(all_cols) == 0:\n",
        "    plt.bar(final_df.index,final_df[col],label=col)\n",
        "  else:\n",
        "    plt.bar(final_df.index,final_df[col],bottom=sum(all_cols),label=col)\n",
        "  all_cols.append(final_df[col])\n",
        "\n",
        "plt.xticks(final_df.index - 0.02, final_df.index)\n",
        "plt.legend()\n",
        "plt.show()"
      ]
    },
    {
      "cell_type": "code",
      "execution_count": null,
      "metadata": {
        "colab": {
          "base_uri": "https://localhost:8080/"
        },
        "id": "geVrW756P7Al",
        "outputId": "07bbb83d-a032-49c2-a8e5-de05ef4e16dc"
      },
      "outputs": [],
      "source": [
        "sum(all_cols)"
      ]
    }
  ],
  "metadata": {
    "colab": {
      "provenance": []
    },
    "kernelspec": {
      "display_name": "venv",
      "language": "python",
      "name": "python3"
    },
    "language_info": {
      "codemirror_mode": {
        "name": "ipython",
        "version": 3
      },
      "file_extension": ".py",
      "mimetype": "text/x-python",
      "name": "python",
      "nbconvert_exporter": "python",
      "pygments_lexer": "ipython3",
      "version": "3.13.2"
    }
  },
  "nbformat": 4,
  "nbformat_minor": 0
}
